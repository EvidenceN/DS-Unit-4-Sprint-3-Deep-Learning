{
 "cells": [
  {
   "cell_type": "markdown",
   "metadata": {
    "colab_type": "text",
    "id": "Ldr0HZ193GKb"
   },
   "source": [
    "Lambda School Data Science\n",
    "\n",
    "*Unit 4, Sprint 3, Module 1*\n",
    "\n",
    "---\n"
   ]
  },
  {
   "cell_type": "markdown",
   "metadata": {
    "colab_type": "text",
    "id": "J4K5p7U-pHdX"
   },
   "source": [
    "# Recurrent Neural Networks (RNNs) and Long Short Term Memory (LSTM) (Prepare)\n",
    "\n",
    "<img src=\"https://media.giphy.com/media/l2JJu8U8SoHhQEnoQ/giphy.gif\" width=480 height=356>\n",
    "<br></br>\n",
    "<br></br>"
   ]
  },
  {
   "cell_type": "markdown",
   "metadata": {
    "colab_type": "text",
    "id": "ewb53rBmpHdY"
   },
   "source": [
    "## Learning Objectives\n",
    "- <a href=\"#p1\">Part 1: </a>Describe Neural Networks used for modeling sequences\n",
    "- <a href=\"#p2\">Part 2: </a>Apply a LSTM to a text generation problem using Keras\n",
    "\n",
    "\n",
    "Additional Resources not in original finished notebook.\n",
    "\n",
    "Weights and biases tutorial https://www.wandb.com/tutorials\n",
    "\n",
    "Practical Applications of Open AI’s GPT-2 Deep Learning Model https://medium.com/the-research-nest/practical-applications-of-open-ais-gpt-2-deep-learning-model-14701f18a432#:~:text=GPT%2D2%20is%20a%20very,text%20samples%20of%20unprecedented%20quality\n",
    "\n",
    "Papers with Code https://paperswithcode.com/\n",
    "\n",
    "Illustrated guide to LSTM and GRU's https://www.youtube.com/watch?v=8HyCNIVRbSU\n",
    "\n",
    "Illustrated Guide to Recurrent Neural Networks: Understanding the Intuition https://www.youtube.com/watch?v=LHXXI4-IEns\n",
    "\n",
    "\n",
    "A Visual Guide to Recurrent Layers in Keras  https://amitness.com/2020/04/recurrent-layers-keras/\n"
   ]
  },
  {
   "cell_type": "markdown",
   "metadata": {
    "colab_type": "text",
    "id": "_IizNKWLomoA"
   },
   "source": [
    "## Overview\n",
    "\n",
    "> \"Yesterday's just a memory - tomorrow is never what it's supposed to be.\" -- Bob Dylan\n",
    "\n",
    "Wish you could save [Time In A Bottle](https://www.youtube.com/watch?v=AnWWj6xOleY)? With statistics you can do the next best thing - understand how data varies over time (or any sequential order), and use the order/time dimension predictively.\n",
    "\n",
    "A sequence is just any enumerated collection - order counts, and repetition is allowed. Python lists are a good elemental example - `[1, 2, 2, -1]` is a valid list, and is different from `[1, 2, -1, 2]`. The data structures we tend to use (e.g. NumPy arrays) are often built on this fundamental structure.\n",
    "\n",
    "A time series is data where you have not just the order but some actual continuous marker for where they lie \"in time\" - this could be a date, a timestamp, [Unix time](https://en.wikipedia.org/wiki/Unix_time), or something else. All time series are also sequences, and for some techniques you may just consider their order and not \"how far apart\" the entries are (if you have particularly consistent data collected at regular intervals it may not matter)."
   ]
  },
  {
   "cell_type": "markdown",
   "metadata": {
    "colab_type": "text",
    "id": "44QZgrPUe3-Y"
   },
   "source": [
    "# Neural Networks for Sequences (Learn)"
   ]
  },
  {
   "cell_type": "markdown",
   "metadata": {
    "colab_type": "text",
    "id": "ozGqf0d1pHdZ"
   },
   "source": [
    "## Overview\n",
    "\n",
    "There's plenty more to \"traditional\" time series, but the latest and greatest technique for sequence data is recurrent neural networks. A recurrence relation in math is an equation that uses recursion to define a sequence - a famous example is the Fibonacci numbers:\n",
    "\n",
    "$F_n = F_{n-1} + F_{n-2}$\n",
    "\n",
    "For formal math you also need a base case $F_0=1, F_1=1$, and then the rest builds from there. But for neural networks what we're really talking about are loops:\n",
    "\n",
    "![Recurrent neural network](https://upload.wikimedia.org/wikipedia/commons/b/b5/Recurrent_neural_network_unfold.svg)\n",
    "\n",
    "The hidden layers have edges (output) going back to their own input - this loop means that for any time `t` the training is at least partly based on the output from time `t-1`. The entire network is being represented on the left, and you can unfold the network explicitly to see how it behaves at any given `t`.\n",
    "\n",
    "Different units can have this \"loop\", but a particularly successful one is the long short-term memory unit (LSTM):\n",
    "\n",
    "![Long short-term memory unit](https://upload.wikimedia.org/wikipedia/commons/thumb/6/63/Long_Short-Term_Memory.svg/1024px-Long_Short-Term_Memory.svg.png)\n",
    "\n",
    "There's a lot going on here - in a nutshell, the calculus still works out and backpropagation can still be implemented. The advantage (ane namesake) of LSTM is that it can generally put more weight on recent (short-term) events while not completely losing older (long-term) information.\n",
    "\n",
    "After enough iterations, a typical neural network will start calculating prior gradients that are so small they effectively become zero - this is the [vanishing gradient problem](https://en.wikipedia.org/wiki/Vanishing_gradient_problem), and is what RNN with LSTM addresses. Pay special attention to the $c_t$ parameters and how they pass through the unit to get an intuition for how this problem is solved.\n",
    "\n",
    "So why are these cool? One particularly compelling application is actually not time series but language modeling - language is inherently ordered data (letters/words go one after another, and the order *matters*). [The Unreasonable Effectiveness of Recurrent Neural Networks](https://karpathy.github.io/2015/05/21/rnn-effectiveness/) is a famous and worth reading blog post on this topic.\n",
    "\n",
    "For our purposes, let's use TensorFlow and Keras to train RNNs with natural language. Resources:\n",
    "\n",
    "- https://github.com/keras-team/keras/blob/master/examples/imdb_lstm.py\n",
    "- https://keras.io/layers/recurrent/#lstm\n",
    "- http://adventuresinmachinelearning.com/keras-lstm-tutorial/\n",
    "\n",
    "Note that `tensorflow.contrib` [also has an implementation of RNN/LSTM](https://www.tensorflow.org/tutorials/sequences/recurrent)."
   ]
  },
  {
   "cell_type": "markdown",
   "metadata": {
    "colab_type": "text",
    "id": "eWrQllf8WEd-"
   },
   "source": [
    "## Follow Along\n",
    "\n",
    "Sequences come in many shapes and forms from stock prices to text. We'll focus on text, because modeling text as a sequence is a strength of Neural Networks. Let's start with a simple classification task using a TensorFlow tutorial. "
   ]
  },
  {
   "cell_type": "markdown",
   "metadata": {
    "colab_type": "text",
    "id": "KurcoN3HpHda"
   },
   "source": [
    "### RNN/LSTM Sentiment Classification with Keras"
   ]
  },
  {
   "cell_type": "code",
   "execution_count": 1,
   "metadata": {
    "colab": {
     "base_uri": "https://localhost:8080/",
     "height": 138
    },
    "colab_type": "code",
    "id": "Ti23G0gRe3kr",
    "outputId": "ea4a6329-c901-4a66-f1a2-05b19ccee070"
   },
   "outputs": [
    {
     "name": "stdout",
     "output_type": "stream",
     "text": [
      "Loading data...\n",
      "Downloading data from https://storage.googleapis.com/tensorflow/tf-keras-datasets/imdb.npz\n",
      "17465344/17464789 [==============================] - 14s 1us/step\n",
      "25000 train sequences\n",
      "25000 test sequences\n"
     ]
    }
   ],
   "source": [
    "'''\n",
    "#Trains an LSTM model on the IMDB sentiment classification task.\n",
    "The dataset is actually too small for LSTM to be of any advantage\n",
    "compared to simpler, much faster methods such as TF-IDF + LogReg.\n",
    "**Notes**\n",
    "- RNNs are tricky. Choice of batch size is important,\n",
    "choice of loss and optimizer is critical, etc.\n",
    "Some configurations won't converge.\n",
    "- LSTM loss decrease patterns during training can be quite different\n",
    "from what you see with CNNs/MLPs/etc.\n",
    "'''\n",
    "from __future__ import print_function\n",
    "import numpy as np\n",
    "from tensorflow.keras.preprocessing import sequence\n",
    "from tensorflow.keras.models import Sequential\n",
    "from tensorflow.keras.layers import Dense, Embedding, Dropout, SimpleRNN, LSTM\n",
    "from tensorflow.keras.datasets import imdb\n",
    "import matplotlib.pyplot as plt\n",
    "import seaborn as sns\n",
    "sns.set()\n",
    "\n",
    "# Set top N words and batch_size\n",
    "max_features = 20000\n",
    "batch_size = 32\n",
    "\n",
    "print('Loading data...')\n",
    "(x_train, y_train), (x_test, y_test) = imdb.load_data(num_words=max_features)\n",
    "print(len(x_train), 'train sequences')\n",
    "print(len(x_test), 'test sequences')\n",
    "\n",
    "# Map for readable classnames\n",
    "class_names = [\"Negative\", \"Positive\"]"
   ]
  },
  {
   "cell_type": "markdown",
   "metadata": {
    "colab_type": "text",
    "id": "8VIQ4uXDpHdg"
   },
   "source": [
    "Reviews in the IMDB dataset have been encoded as a sequence of integers. Luckily the dataset also contains an index for converting the reviews back into human readable form."
   ]
  },
  {
   "cell_type": "code",
   "execution_count": 2,
   "metadata": {
    "colab": {
     "base_uri": "https://localhost:8080/",
     "height": 51
    },
    "colab_type": "code",
    "id": "TXFzEN3rpHdg",
    "outputId": "cce6c002-6222-48e6-a300-7ff398640ad8"
   },
   "outputs": [
    {
     "name": "stdout",
     "output_type": "stream",
     "text": [
      "Downloading data from https://storage.googleapis.com/tensorflow/tf-keras-datasets/imdb_word_index.json\n",
      "1646592/1641221 [==============================] - 1s 0us/step\n"
     ]
    }
   ],
   "source": [
    "# Get the word index from the dataset\n",
    "word_index = imdb.get_word_index()\n",
    "\n",
    "# Ensure that \"special\" words are mapped into human readable terms \n",
    "word_index = {k:(v+3) for k,v in word_index.items()}\n",
    "word_index[\"<PAD>\"] = 0\n",
    "word_index[\"<START>\"] = 1\n",
    "word_index[\"<UNKNOWN>\"] = 2\n",
    "word_index[\"<UNUSED>\"] = 3\n",
    "\n",
    "# Perform reverse word lookup and make it callable\n",
    "reverse_word_index = dict([(value, key) for (key, value) in word_index.items()])\n",
    "def decode_review(text):\n",
    "    return ' '.join([reverse_word_index.get(i, '?') for i in text])"
   ]
  },
  {
   "cell_type": "code",
   "execution_count": 3,
   "metadata": {
    "colab": {
     "base_uri": "https://localhost:8080/",
     "height": 227
    },
    "colab_type": "code",
    "id": "e6uuSj2xpHdi",
    "outputId": "14c9d659-3669-48a3-eccc-ac26081d9b5b"
   },
   "outputs": [
    {
     "name": "stdout",
     "output_type": "stream",
     "text": [
      "Maximum review length: 2494\n",
      "Minimum review length: 7\n",
      "Mean review length: 234.75892\n",
      "\n",
      "Machine readable Review\n",
      "  Review Text: [1, 13, 219, 14, 33, 4, 12180, 22, 1413, 12, 16, 373, 175, 2711, 1115, 1026, 430, 939, 16, 23, 2444, 25, 43, 697, 89, 12, 16, 170, 8, 130, 262, 19, 32, 4, 665, 7, 4, 2, 322, 5, 4, 1520, 7, 4, 86, 250, 10, 10, 4, 249, 173, 16, 4, 3891, 6, 19, 4, 167, 564, 5, 564, 1325, 36, 805, 8, 216, 638, 17, 11076, 21, 25, 100, 376, 507, 4, 2110, 15, 79, 125, 23, 567, 13, 2134, 233, 36, 4852, 2, 5, 81, 1672, 10, 10, 92, 437, 129, 58, 13, 69, 8, 401, 61, 1432, 39, 1286, 46, 7, 12]\n",
      "  Review Sentiment: 0\n",
      "\n",
      "Human Readable Review\n",
      "  Review Text: <START> i saw this at the edinburgh film festival it was awful every clichéd violent rich boy fantasy was on display you just knew how it was going to end especially with all the shots of the <UNKNOWN> wife and the rape of the first girl br br the worst part was the q a with the director writer and writer producer they tried to come across as intellectuals but you could tell they're the types that get off on violence i bet anything they frequent <UNKNOWN> and do drugs br br don't waste your time i had to keep my boyfriend from walking out of it\n",
      "  Review Sentiment: Negative\n"
     ]
    }
   ],
   "source": [
    "# Concatonate test and training datasets\n",
    "allreviews = np.concatenate((x_train, x_test), axis=0)\n",
    "\n",
    "# Review lengths across test and training whole datasets\n",
    "print(\"Maximum review length: {}\".format(len(max((allreviews), key=len))))\n",
    "print(\"Minimum review length: {}\".format(len(min((allreviews), key=len))))\n",
    "result = [len(x) for x in allreviews]\n",
    "print(\"Mean review length: {}\".format(np.mean(result)))\n",
    "\n",
    "# Print a review and it's class as stored in the dataset. Replace the number\n",
    "# to select a different review.\n",
    "print(\"\")\n",
    "print(\"Machine readable Review\")\n",
    "print(\"  Review Text: \" + str(x_train[60]))\n",
    "print(\"  Review Sentiment: \" + str(y_train[60]))\n",
    "\n",
    "# Print a review and it's class in human readable format. Replace the number\n",
    "# to select a different review.\n",
    "print(\"\")\n",
    "print(\"Human Readable Review\")\n",
    "print(\"  Review Text: \" + decode_review(x_train[60]))\n",
    "print(\"  Review Sentiment: \" + class_names[y_train[60]])"
   ]
  },
  {
   "cell_type": "code",
   "execution_count": 4,
   "metadata": {
    "colab": {
     "base_uri": "https://localhost:8080/",
     "height": 394
    },
    "colab_type": "code",
    "id": "JUEd9xgkpHdk",
    "outputId": "eeeee64d-7d38-4e75-b356-2471fbe7005e"
   },
   "outputs": [
    {
     "data": {
      "image/png": "[encoded data removed]",
      "text/plain": [
       "<Figure size 576x432 with 1 Axes>"
      ]
     },
     "metadata": {},
     "output_type": "display_data"
    }
   ],
   "source": [
    "# Get the lengths for positive and negative reviews\n",
    "all_labels = np.concatenate([y_train, y_test])\n",
    "positive = np.array(result)[all_labels==1]\n",
    "negative = np.array(result)[all_labels==0]\n",
    "\n",
    "plt.figure(figsize=(8,6))\n",
    "sns.distplot(positive, label='Positive Reviews', hist=False)\n",
    "sns.distplot(negative, label='Negative Reviews', hist=False)\n",
    "plt.title('Distribution of Positive and Negative Review Lengths', fontsize=14)\n",
    "plt.legend();"
   ]
  },
  {
   "cell_type": "code",
   "execution_count": 5,
   "metadata": {
    "colab": {
     "base_uri": "https://localhost:8080/",
     "height": 69
    },
    "colab_type": "code",
    "id": "bUhsUnyHpHdn",
    "outputId": "27ae8c7d-bc9a-4c8d-fd2a-615d3a473f98"
   },
   "outputs": [
    {
     "name": "stdout",
     "output_type": "stream",
     "text": [
      "Pad Sequences (samples x time)\n",
      "x_train shape:  (25000, 300)\n",
      "x_test shape:  (25000, 300)\n"
     ]
    }
   ],
   "source": [
    "# If you want to pad the end of the sequences you can set padding='post'.\n",
    "maxlen = 300\n",
    "\n",
    "print('Pad Sequences (samples x time)')\n",
    "x_train = sequence.pad_sequences(x_train, maxlen=maxlen)\n",
    "x_test = sequence.pad_sequences(x_test, maxlen=maxlen)\n",
    "print('x_train shape: ', x_train.shape)\n",
    "print('x_test shape: ', x_test.shape)"
   ]
  },
  {
   "cell_type": "code",
   "execution_count": 6,
   "metadata": {
    "colab": {
     "base_uri": "https://localhost:8080/",
     "height": 606
    },
    "colab_type": "code",
    "id": "IzSH1P9LpHdp",
    "outputId": "d37ea475-7c7e-4bab-ca40-b1945af9ce1f"
   },
   "outputs": [
    {
     "data": {
      "text/plain": [
       "array([    0,     0,     0,     0,     0,     0,     0,     0,     0,\n",
       "           0,     0,     0,     0,     0,     0,     0,     0,     0,\n",
       "           0,     0,     0,     0,     0,     0,     0,     0,     0,\n",
       "           0,     0,     0,     0,     0,     0,     0,     0,     0,\n",
       "           0,     0,     0,     0,     0,     0,     0,     0,     0,\n",
       "           0,     0,     0,     0,     0,     0,     0,     0,     0,\n",
       "           0,     0,     0,     0,     0,     0,     0,     0,     0,\n",
       "           0,     0,     0,     0,     0,     0,     0,     0,     0,\n",
       "           0,     0,     0,     0,     0,     0,     0,     0,     0,\n",
       "           0,     0,     0,     0,     0,     0,     0,     0,     0,\n",
       "           0,     0,     0,     0,     0,     0,     0,     0,     0,\n",
       "           0,     0,     0,     0,     0,     0,     0,     0,     0,\n",
       "           0,     0,     0,     0,     0,     0,     0,     0,     0,\n",
       "           0,     0,     0,     0,     0,     0,     0,     0,     0,\n",
       "           0,     0,     0,     0,     0,     0,     0,     0,     0,\n",
       "           0,     0,     0,     0,     0,     0,     0,     0,     0,\n",
       "           0,     0,     0,     0,     0,     0,     0,     0,     0,\n",
       "           0,     0,     0,     0,     0,     0,     0,     0,     0,\n",
       "           0,     0,     0,     0,     0,     0,     0,     0,     0,\n",
       "           0,     0,     0,     0,     0,     0,     0,     0,     0,\n",
       "           0,     0,     0,     0,     0,     0,     0,     0,     0,\n",
       "           0,     0,     0,     0,     1,    13,   219,    14,    33,\n",
       "           4, 12180,    22,  1413,    12,    16,   373,   175,  2711,\n",
       "        1115,  1026,   430,   939,    16,    23,  2444,    25,    43,\n",
       "         697,    89,    12,    16,   170,     8,   130,   262,    19,\n",
       "          32,     4,   665,     7,     4,     2,   322,     5,     4,\n",
       "        1520,     7,     4,    86,   250,    10,    10,     4,   249,\n",
       "         173,    16,     4,  3891,     6,    19,     4,   167,   564,\n",
       "           5,   564,  1325,    36,   805,     8,   216,   638,    17,\n",
       "       11076,    21,    25,   100,   376,   507,     4,  2110,    15,\n",
       "          79,   125,    23,   567,    13,  2134,   233,    36,  4852,\n",
       "           2,     5,    81,  1672,    10,    10,    92,   437,   129,\n",
       "          58,    13,    69,     8,   401,    61,  1432,    39,  1286,\n",
       "          46,     7,    12])"
      ]
     },
     "execution_count": 6,
     "metadata": {},
     "output_type": "execute_result"
    }
   ],
   "source": [
    "x_train[60]"
   ]
  },
  {
   "cell_type": "markdown",
   "metadata": {
    "colab_type": "text",
    "id": "HLt4TrmYpHds"
   },
   "source": [
    "Let's get a baseline performance for Multi-Layer Perceptron"
   ]
  },
  {
   "cell_type": "code",
   "execution_count": null,
   "metadata": {
    "colab": {
     "base_uri": "https://localhost:8080/",
     "height": 294
    },
    "colab_type": "code",
    "id": "PzAMdeJ_pHds",
    "outputId": "13b0c169-e28a-4cbf-e749-15e970bf18e9"
   },
   "outputs": [
    {
     "name": "stdout",
     "output_type": "stream",
     "text": [
      "Model: \"sequential\"\n",
      "_________________________________________________________________\n",
      "Layer (type)                 Output Shape              Param #   \n",
      "=================================================================\n",
      "embedding (Embedding)        (None, None, 128)         2560000   \n",
      "_________________________________________________________________\n",
      "dense (Dense)                (None, None, 128)         16512     \n",
      "_________________________________________________________________\n",
      "dropout (Dropout)            (None, None, 128)         0         \n",
      "_________________________________________________________________\n",
      "dense_1 (Dense)              (None, None, 1)           129       \n",
      "=================================================================\n",
      "Total params: 2,576,641\n",
      "Trainable params: 2,576,641\n",
      "Non-trainable params: 0\n",
      "_________________________________________________________________\n"
     ]
    }
   ],
   "source": [
    "mlp = Sequential()\n",
    "mlp.add(Embedding(max_features, 128))\n",
    "mlp.add(Dense(128))\n",
    "mlp.add(Dropout(0.25))\n",
    "mlp.add(Dense(1, activation='sigmoid'))\n",
    "\n",
    "mlp.compile(loss='binary_crossentropy',\n",
    "              optimizer='adam', \n",
    "              metrics=['accuracy'])\n",
    "\n",
    "mlp.summary()"
   ]
  },
  {
   "cell_type": "code",
   "execution_count": null,
   "metadata": {
    "colab": {
     "base_uri": "https://localhost:8080/",
     "height": 190
    },
    "colab_type": "code",
    "id": "gxtj-rm7pHdu",
    "outputId": "c3ea7465-d2af-4454-c201-5f82e3e9bca3"
   },
   "outputs": [
    {
     "name": "stdout",
     "output_type": "stream",
     "text": [
      "Epoch 1/5\n",
      "782/782 [==============================] - 27s 35ms/step - loss: 0.6858 - accuracy: 0.5351 - val_loss: 0.6860 - val_accuracy: 0.5293\n",
      "Epoch 2/5\n",
      "782/782 [==============================] - 27s 34ms/step - loss: 0.6830 - accuracy: 0.5367 - val_loss: 0.6857 - val_accuracy: 0.5297\n",
      "Epoch 3/5\n",
      "782/782 [==============================] - 27s 34ms/step - loss: 0.6823 - accuracy: 0.5352 - val_loss: 0.6857 - val_accuracy: 0.5348\n",
      "Epoch 4/5\n",
      "782/782 [==============================] - 27s 35ms/step - loss: 0.6822 - accuracy: 0.5389 - val_loss: 0.6860 - val_accuracy: 0.5297\n",
      "Epoch 5/5\n",
      "782/782 [==============================] - 27s 35ms/step - loss: 0.6819 - accuracy: 0.5354 - val_loss: 0.6862 - val_accuracy: 0.5354\n"
     ]
    }
   ],
   "source": [
    "mlp_history = mlp.fit(x_train, y_train,\n",
    "                      batch_size=batch_size, \n",
    "                      epochs=5, \n",
    "                      validation_data=(x_test, y_test))"
   ]
  },
  {
   "cell_type": "code",
   "execution_count": null,
   "metadata": {
    "colab": {
     "base_uri": "https://localhost:8080/",
     "height": 301
    },
    "colab_type": "code",
    "id": "zblNnh8ApHdw",
    "outputId": "838aaaaa-62cd-433f-b33a-6b6817a9e675"
   },
   "outputs": [
    {
     "data": {
      "image/png": "[encoded data removed]",
      "text/plain": [
       "<Figure size 432x288 with 1 Axes>"
      ]
     },
     "metadata": {
      "needs_background": "light",
      "tags": []
     },
     "output_type": "display_data"
    }
   ],
   "source": [
    "# Plot training & validation loss values\n",
    "plt.plot(mlp_history.history['loss'])\n",
    "plt.plot(mlp_history.history['val_loss'])\n",
    "plt.title('Model loss')\n",
    "plt.ylabel('Loss')\n",
    "plt.xlabel('Epoch')\n",
    "plt.legend(['Train', 'Test'], loc='upper left')\n",
    "plt.show();"
   ]
  },
  {
   "cell_type": "markdown",
   "metadata": {
    "colab_type": "text",
    "id": "T8Knv0LypHdy"
   },
   "source": [
    "Let's try using the SimpleRNN layers instead of Dense"
   ]
  },
  {
   "cell_type": "code",
   "execution_count": null,
   "metadata": {
    "colab": {
     "base_uri": "https://localhost:8080/",
     "height": 294
    },
    "colab_type": "code",
    "id": "RZhrdWPmpHdz",
    "outputId": "28b51915-a099-4e62-ccb8-766791b565a8"
   },
   "outputs": [
    {
     "name": "stdout",
     "output_type": "stream",
     "text": [
      "Model: \"sequential_1\"\n",
      "_________________________________________________________________\n",
      "Layer (type)                 Output Shape              Param #   \n",
      "=================================================================\n",
      "embedding_1 (Embedding)      (None, None, 128)         2560000   \n",
      "_________________________________________________________________\n",
      "simple_rnn (SimpleRNN)       (None, 128)               32896     \n",
      "_________________________________________________________________\n",
      "dropout_1 (Dropout)          (None, 128)               0         \n",
      "_________________________________________________________________\n",
      "dense_2 (Dense)              (None, 1)                 129       \n",
      "=================================================================\n",
      "Total params: 2,593,025\n",
      "Trainable params: 2,593,025\n",
      "Non-trainable params: 0\n",
      "_________________________________________________________________\n"
     ]
    }
   ],
   "source": [
    "rnn = Sequential()\n",
    "rnn.add(Embedding(max_features, 128))\n",
    "rnn.add(SimpleRNN(128))\n",
    "rnn.add(Dropout(0.25))\n",
    "rnn.add(Dense(1, activation='sigmoid'))\n",
    "\n",
    "rnn.compile(loss='binary_crossentropy',\n",
    "              optimizer='adam', \n",
    "              metrics=['accuracy'])\n",
    "\n",
    "rnn.summary()"
   ]
  },
  {
   "cell_type": "code",
   "execution_count": null,
   "metadata": {
    "colab": {
     "base_uri": "https://localhost:8080/",
     "height": 190
    },
    "colab_type": "code",
    "id": "zMtFhIzOpHd1",
    "outputId": "c053446c-a927-465d-d4a8-7fbe455923f8"
   },
   "outputs": [
    {
     "name": "stdout",
     "output_type": "stream",
     "text": [
      "Epoch 1/5\n",
      "782/782 [==============================] - 27s 35ms/step - loss: 0.6818 - accuracy: 0.5370 - val_loss: 0.6861 - val_accuracy: 0.5353\n",
      "Epoch 2/5\n",
      "782/782 [==============================] - 27s 34ms/step - loss: 0.6818 - accuracy: 0.5344 - val_loss: 0.6858 - val_accuracy: 0.5354\n",
      "Epoch 3/5\n",
      "782/782 [==============================] - 27s 34ms/step - loss: 0.6816 - accuracy: 0.5381 - val_loss: 0.6874 - val_accuracy: 0.5292\n",
      "Epoch 4/5\n",
      "782/782 [==============================] - 27s 34ms/step - loss: 0.6815 - accuracy: 0.5371 - val_loss: 0.6862 - val_accuracy: 0.5355\n",
      "Epoch 5/5\n",
      "782/782 [==============================] - 27s 34ms/step - loss: 0.6814 - accuracy: 0.5369 - val_loss: 0.6858 - val_accuracy: 0.5356\n"
     ]
    }
   ],
   "source": [
    "rnn_history = mlp.fit(x_train, y_train,\n",
    "                      batch_size=batch_size, \n",
    "                      epochs=5, \n",
    "                      validation_data=(x_test, y_test))"
   ]
  },
  {
   "cell_type": "code",
   "execution_count": null,
   "metadata": {
    "colab": {
     "base_uri": "https://localhost:8080/",
     "height": 301
    },
    "colab_type": "code",
    "id": "eOYCl8BtpHd3",
    "outputId": "ec3d468f-480e-4b2a-d5a8-40f0c6615459"
   },
   "outputs": [
    {
     "data": {
      "image/png": "[encoded data removed]",
      "text/plain": [
       "<Figure size 432x288 with 1 Axes>"
      ]
     },
     "metadata": {
      "needs_background": "light",
      "tags": []
     },
     "output_type": "display_data"
    }
   ],
   "source": [
    "# Plot training & validation loss values\n",
    "plt.plot(rnn_history.history['loss'])\n",
    "plt.plot(rnn_history.history['val_loss'])\n",
    "plt.title('Model loss')\n",
    "plt.ylabel('Loss')\n",
    "plt.xlabel('Epoch')\n",
    "plt.legend(['Train', 'Test'], loc='upper left')\n",
    "plt.show();"
   ]
  },
  {
   "cell_type": "markdown",
   "metadata": {
    "colab_type": "text",
    "id": "H44LUBiNpHd5"
   },
   "source": [
    "Lastly, Let's try replacing the SimpleRNN layer with LSTM."
   ]
  },
  {
   "cell_type": "code",
   "execution_count": null,
   "metadata": {
    "colab": {
     "base_uri": "https://localhost:8080/",
     "height": 294
    },
    "colab_type": "code",
    "id": "1pVo5egYpHd5",
    "outputId": "1e854f4e-5db8-49ee-ba5f-1e84e5d50c73"
   },
   "outputs": [
    {
     "name": "stdout",
     "output_type": "stream",
     "text": [
      "Model: \"sequential_7\"\n",
      "_________________________________________________________________\n",
      "Layer (type)                 Output Shape              Param #   \n",
      "=================================================================\n",
      "embedding_7 (Embedding)      (None, None, 128)         2560000   \n",
      "_________________________________________________________________\n",
      "lstm_8 (LSTM)                (None, 128)               131584    \n",
      "_________________________________________________________________\n",
      "dropout_7 (Dropout)          (None, 128)               0         \n",
      "_________________________________________________________________\n",
      "dense_6 (Dense)              (None, 1)                 129       \n",
      "=================================================================\n",
      "Total params: 2,691,713\n",
      "Trainable params: 2,691,713\n",
      "Non-trainable params: 0\n",
      "_________________________________________________________________\n"
     ]
    }
   ],
   "source": [
    "lstm = Sequential()\n",
    "lstm.add(Embedding(max_features, 128))\n",
    "\n",
    "# We are using a fast version of LSTM whih is optimised for GPUs. This layer \n",
    "# looks at the sequence of words in the review, along with their word embeddings\n",
    "# and uses both of these to determine the sentiment of a given review.\n",
    "\n",
    "# If you wanted to stack multiple LSTM layers:\n",
    "# model.add(LSTM(256, return_sequences=True))\n",
    "# model.add(LSTM(128))\n",
    "\n",
    "# If you wanted to add Bidirectional LSTM:\n",
    "# lstm.add(Bidirectional(LSTM(128)))\n",
    "\n",
    "# Note for training on GPU:\n",
    "# In TensorFlow 2.0, the built-in LSTM and GRU layers have been updated to leverage CuDNN kernels by default when a GPU is available. \n",
    "# With this change, the prior keras.layers.CuDNNLSTM/CuDNNGRU layers have been deprecated, and you can build your model without worrying \n",
    "# about the hardware it will run on.\n",
    "\n",
    "lstm.add(LSTM(128))\n",
    "lstm.add(Dropout(0.25))\n",
    "lstm.add(Dense(1, activation='sigmoid'))\n",
    "\n",
    "lstm.compile(loss='binary_crossentropy',\n",
    "              optimizer='adam', \n",
    "              metrics=['accuracy'])\n",
    "\n",
    "lstm.summary()"
   ]
  },
  {
   "cell_type": "code",
   "execution_count": null,
   "metadata": {
    "colab": {
     "base_uri": "https://localhost:8080/",
     "height": 533
    },
    "colab_type": "code",
    "id": "GNPMthJJpHd8",
    "outputId": "a4d74fcd-666b-452c-ce27-bf6843f6d3f3"
   },
   "outputs": [
    {
     "data": {
      "image/png": "[encoded data removed]",
      "text/plain": [
       "<IPython.core.display.Image object>"
      ]
     },
     "execution_count": 23,
     "metadata": {
      "tags": []
     },
     "output_type": "execute_result"
    }
   ],
   "source": [
    "from tensorflow.keras.utils import plot_model\n",
    "\n",
    "plot_model(lstm, to_file='lstm.png', show_shapes=True, show_layer_names=False)"
   ]
  },
  {
   "cell_type": "code",
   "execution_count": null,
   "metadata": {
    "colab": {
     "base_uri": "https://localhost:8080/",
     "height": 190
    },
    "colab_type": "code",
    "id": "34jTaQDlpHd-",
    "outputId": "bb1ab4ab-106e-43bb-e75c-f44791f3893f"
   },
   "outputs": [
    {
     "name": "stdout",
     "output_type": "stream",
     "text": [
      "Epoch 1/5\n",
      "782/782 [==============================] - 42s 54ms/step - loss: 0.4288 - accuracy: 0.8020 - val_loss: 0.3662 - val_accuracy: 0.8511\n",
      "Epoch 2/5\n",
      "782/782 [==============================] - 42s 54ms/step - loss: 0.2778 - accuracy: 0.8882 - val_loss: 0.3554 - val_accuracy: 0.8455\n",
      "Epoch 3/5\n",
      "782/782 [==============================] - 42s 54ms/step - loss: 0.1674 - accuracy: 0.9390 - val_loss: 0.3627 - val_accuracy: 0.8644\n",
      "Epoch 4/5\n",
      "782/782 [==============================] - 42s 53ms/step - loss: 0.1113 - accuracy: 0.9612 - val_loss: 0.5488 - val_accuracy: 0.7907\n",
      "Epoch 5/5\n",
      "782/782 [==============================] - 41s 53ms/step - loss: 0.1248 - accuracy: 0.9546 - val_loss: 0.4681 - val_accuracy: 0.8492\n"
     ]
    }
   ],
   "source": [
    "lstm_history = lstm.fit(x_train, y_train,\n",
    "                        batch_size=batch_size, \n",
    "                        epochs=5, \n",
    "                        validation_data=(x_test,y_test))"
   ]
  },
  {
   "cell_type": "code",
   "execution_count": null,
   "metadata": {
    "colab": {
     "base_uri": "https://localhost:8080/",
     "height": 301
    },
    "colab_type": "code",
    "id": "CZoPDt_IpHeA",
    "outputId": "b1788a76-2964-4a59-8078-e55c9d4463b1"
   },
   "outputs": [
    {
     "data": {
      "image/png": "[encoded data removed]",
      "text/plain": [
       "<Figure size 432x288 with 1 Axes>"
      ]
     },
     "metadata": {
      "needs_background": "light",
      "tags": []
     },
     "output_type": "display_data"
    }
   ],
   "source": [
    "# Plot training & validation loss values\n",
    "plt.plot(lstm_history.history['loss'])\n",
    "plt.plot(lstm_history.history['val_loss'])\n",
    "plt.title('Model loss')\n",
    "plt.ylabel('Loss')\n",
    "plt.xlabel('Epoch')\n",
    "plt.legend(['Train', 'Test'], loc='upper left')\n",
    "plt.show();"
   ]
  },
  {
   "cell_type": "markdown",
   "metadata": {
    "colab_type": "text",
    "id": "JWlY-FCepHeC"
   },
   "source": [
    "## Evaluate model with test data and view results"
   ]
  },
  {
   "cell_type": "code",
   "execution_count": null,
   "metadata": {
    "colab": {
     "base_uri": "https://localhost:8080/",
     "height": 173
    },
    "colab_type": "code",
    "id": "n8KZo_gApHeD",
    "outputId": "64108d1b-2a51-435e-e493-4d004e4933e9"
   },
   "outputs": [
    {
     "name": "stdout",
     "output_type": "stream",
     "text": [
      "              precision    recall  f1-score   support\n",
      "\n",
      "    Negative       0.85      0.85      0.85     12500\n",
      "    Positive       0.85      0.85      0.85     12500\n",
      "\n",
      "    accuracy                           0.85     25000\n",
      "   macro avg       0.85      0.85      0.85     25000\n",
      "weighted avg       0.85      0.85      0.85     25000\n",
      "\n"
     ]
    }
   ],
   "source": [
    "# Get Model Predictions for test data\n",
    "from sklearn.metrics import classification_report\n",
    "\n",
    "predicted_classes = lstm.predict_classes(x_test)\n",
    "print(classification_report(y_test, predicted_classes, target_names=class_names))"
   ]
  },
  {
   "cell_type": "markdown",
   "metadata": {
    "colab_type": "text",
    "id": "dpvQqlrhpHeE"
   },
   "source": [
    "## View some incorrect predictions\n",
    "\n",
    "Lets have a look at some of the incorrectly classified reviews. For readability we remove the padding."
   ]
  },
  {
   "cell_type": "code",
   "execution_count": null,
   "metadata": {
    "colab": {
     "base_uri": "https://localhost:8080/",
     "height": 245
    },
    "colab_type": "code",
    "id": "ZZnvSsOVpHeF",
    "outputId": "70264810-1341-47bf-c2f0-85f2574a0ea2"
   },
   "outputs": [
    {
     "name": "stdout",
     "output_type": "stream",
     "text": [
      "Incorrectly classified Test Review [1]\n",
      "Test Review #3: Predicted [Positive] Actual [Negative]\n",
      "Test Review Text: <START> i generally love this type of movie however this time i found myself wanting to kick the screen since i can't do that i will just complain about it this was absolutely idiotic the things that happen with the dead kids are very cool but the alive people are absolute idiots i am a grown man pretty big and i can defend myself well however i would not do half the stuff the little girl does in this movie also the mother in this movie is reckless with her children to the point of neglect i wish i wasn't so angry about her and her actions because i would have otherwise enjoyed the flick what a number she was take my advise and fast forward through everything you see her do until the end also is anyone else getting sick of watching movies that are filmed so dark anymore one can hardly see what is being filmed as an audience we are impossibly involved with the actions on the screen so then why the hell can't we have night vision\n",
      "\n",
      "Incorrectly classified Test Review [2]\n",
      "Test Review #8: Predicted [Positive] Actual [Negative]\n",
      "Test Review Text: <START> hollywood had a long love affair with bogus arabian nights tales but few of these products have stood the test of time the most memorable were the jon hall maria <UNKNOWN> films which have long since become camp this one is filled with dubbed songs anachronistic slang and slapstick it's a truly crop of corn and pretty near intolerable today it was nominated for its imaginative special effects which are almost <UNKNOWN> in this day and age consisting mainly of trick photography the only outstanding positive feature which survives is its beautiful color and clarity sad to say of the many films made in this genre few of them come up to alexander <UNKNOWN> original thief of baghdad almost any other arabian nights film is superior to this one though it's a loser\n",
      "\n",
      "Incorrectly classified Test Review [3]\n",
      "Test Review #22: Predicted [Negative] Actual [Positive]\n",
      "Test Review Text: <START> how managed to avoid attention remains a mystery a potent mix of comedy and crime this one takes chances where tarantino plays it safe with the hollywood formula the risks don't always pay off one character in one sequence comes off inappropriately silly and falls flat in the lead role thomas jane gives a wonderful and complex performance and two brief appearances by mickey rourke hint at the high potential of this much under and mis used actor here's a director one should keep one's eye on\n",
      "\n"
     ]
    }
   ],
   "source": [
    "predicted_classes_reshaped = np.reshape(predicted_classes, 25000)\n",
    "incorrect = np.nonzero(predicted_classes_reshaped != y_test)[0]\n",
    "\n",
    "# We select the first 10 incorrectly classified reviews\n",
    "for j, incorrect in enumerate(incorrect[0:3]):\n",
    "    \n",
    "    predicted = class_names[predicted_classes_reshaped[incorrect]]\n",
    "    actual = class_names[y_test[incorrect]]\n",
    "    human_readable_review = decode_review(x_test[incorrect])\n",
    "    \n",
    "    print(\"Incorrectly classified Test Review [\"+ str(j+1) +\"]\") \n",
    "    print(\"Test Review #\" + str(incorrect)  + \": Predicted [\"+ predicted + \"] Actual [\"+ actual + \"]\")\n",
    "    print(\"Test Review Text: \" + human_readable_review.replace(\"<PAD> \", \"\"))\n",
    "    print(\"\")"
   ]
  },
  {
   "cell_type": "markdown",
   "metadata": {
    "colab_type": "text",
    "id": "ewk8-qdQpHeG"
   },
   "source": [
    "## Run your own text against the trained model"
   ]
  },
  {
   "cell_type": "code",
   "execution_count": 7,
   "metadata": {
    "colab": {
     "base_uri": "https://localhost:8080/",
     "height": 69
    },
    "colab_type": "code",
    "id": "BachTCs2pHeH",
    "outputId": "e8ca1bbd-8c5b-4c74-994c-9b43cd6eb082"
   },
   "outputs": [
    {
     "ename": "NameError",
     "evalue": "name 'lstm' is not defined",
     "output_type": "error",
     "traceback": [
      "\u001b[1;31m---------------------------------------------------------------------------\u001b[0m",
      "\u001b[1;31mNameError\u001b[0m                                 Traceback (most recent call last)",
      "\u001b[1;32m<ipython-input-7-2b5dcc8ef77a>\u001b[0m in \u001b[0;36m<module>\u001b[1;34m\u001b[0m\n\u001b[0;32m     11\u001b[0m \u001b[1;33m\u001b[0m\u001b[0m\n\u001b[0;32m     12\u001b[0m \u001b[1;31m# Run your processed review against the trained model\u001b[0m\u001b[1;33m\u001b[0m\u001b[1;33m\u001b[0m\u001b[0m\n\u001b[1;32m---> 13\u001b[1;33m \u001b[0mrawprediction\u001b[0m \u001b[1;33m=\u001b[0m \u001b[0mlstm\u001b[0m\u001b[1;33m.\u001b[0m\u001b[0mpredict\u001b[0m\u001b[1;33m(\u001b[0m\u001b[0mnp\u001b[0m\u001b[1;33m.\u001b[0m\u001b[0marray\u001b[0m\u001b[1;33m(\u001b[0m\u001b[1;33m[\u001b[0m\u001b[0mtmp_padded\u001b[0m\u001b[1;33m]\u001b[0m\u001b[1;33m[\u001b[0m\u001b[1;36m0\u001b[0m\u001b[1;33m]\u001b[0m\u001b[1;33m)\u001b[0m\u001b[1;33m)\u001b[0m\u001b[1;33m[\u001b[0m\u001b[1;36m0\u001b[0m\u001b[1;33m]\u001b[0m\u001b[1;33m[\u001b[0m\u001b[1;36m0\u001b[0m\u001b[1;33m]\u001b[0m\u001b[1;33m\u001b[0m\u001b[0m\n\u001b[0m\u001b[0;32m     14\u001b[0m \u001b[0mprediction\u001b[0m \u001b[1;33m=\u001b[0m \u001b[0mint\u001b[0m\u001b[1;33m(\u001b[0m\u001b[0mround\u001b[0m\u001b[1;33m(\u001b[0m\u001b[0mrawprediction\u001b[0m\u001b[1;33m)\u001b[0m\u001b[1;33m)\u001b[0m\u001b[1;33m\u001b[0m\u001b[0m\n\u001b[0;32m     15\u001b[0m \u001b[1;33m\u001b[0m\u001b[0m\n",
      "\u001b[1;31mNameError\u001b[0m: name 'lstm' is not defined"
     ]
    }
   ],
   "source": [
    "# Write your own review\n",
    "review = \"this is the best film i have ever seen it is great and fantastic and i loved it\"\n",
    "\n",
    "# Encode review (replace word with integers)\n",
    "tmp = []\n",
    "for word in review.split(\" \"):\n",
    "    tmp.append(word_index[word])\n",
    "\n",
    "# Ensure review is 300 characters long (by padding or truncating)\n",
    "tmp_padded = sequence.pad_sequences([tmp], maxlen=maxlen) \n",
    "\n",
    "# Run your processed review against the trained model\n",
    "rawprediction = lstm.predict(np.array([tmp_padded][0]))[0][0]\n",
    "prediction = int(round(rawprediction))\n",
    "\n",
    "# Test the model and print the result\n",
    "print(\"Review: \" + review)\n",
    "print(\"Raw Prediction: \" + str(rawprediction))\n",
    "print(\"Predicted Class: \" + class_names[prediction])"
   ]
  },
  {
   "cell_type": "markdown",
   "metadata": {
    "colab_type": "text",
    "id": "ZtdMoqGypHeI"
   },
   "source": [
    "## Challenge\n",
    "\n",
    "You will be expected to use an Keras LSTM for a classicification task on the *Sprint Challenge*. \n",
    "\n",
    "Reference for some of the code in the section above can be found: https://github.com/markwest1972/LSTM-Example-Google-Colaboratory/blob/master/LSTM_IMDB_Sentiment_Example.ipynb"
   ]
  },
  {
   "cell_type": "markdown",
   "metadata": {
    "colab_type": "text",
    "id": "7pETWPIe362y"
   },
   "source": [
    "# LSTM Text generation with Keras (Learn)"
   ]
  },
  {
   "cell_type": "markdown",
   "metadata": {
    "colab_type": "text",
    "id": "YYhaGN7HpHeJ"
   },
   "source": [
    "## Overview\n",
    "\n",
    "What else can we do with LSTMs? Since we're analyzing the *sequence*, we can do more than classify - we can *generate* text. I'ved pulled some news stories using [newspaper](https://github.com/codelucas/newspaper/).\n",
    "\n",
    "This example is drawn from the Keras [documentation](https://keras.io/examples/lstm_text_generation/)."
   ]
  },
  {
   "cell_type": "code",
   "execution_count": 9,
   "metadata": {
    "colab": {},
    "colab_type": "code",
    "id": "Pkzq0-D4pHeK"
   },
   "outputs": [],
   "source": [
    "from tensorflow.keras.callbacks import LambdaCallback\n",
    "from tensorflow.keras.models import Sequential\n",
    "from tensorflow.keras.layers import Dense, LSTM\n",
    "from tensorflow.keras.optimizers import RMSprop\n",
    "\n",
    "import pandas as pd\n",
    "import numpy as np\n",
    "import random\n",
    "import sys\n",
    "import os"
   ]
  },
  {
   "cell_type": "code",
   "execution_count": 10,
   "metadata": {
    "colab": {
     "base_uri": "https://localhost:8080/",
     "height": 219
    },
    "colab_type": "code",
    "id": "e4qyyWH4pHeM",
    "outputId": "4381d4c6-f965-40c4-f48d-cc9e14d034cc"
   },
   "outputs": [
    {
     "name": "stdout",
     "output_type": "stream",
     "text": [
      "(136, 1)\n"
     ]
    },
    {
     "data": {
      "text/html": [
       "<div>\n",
       "<style scoped>\n",
       "    .dataframe tbody tr th:only-of-type {\n",
       "        vertical-align: middle;\n",
       "    }\n",
       "\n",
       "    .dataframe tbody tr th {\n",
       "        vertical-align: top;\n",
       "    }\n",
       "\n",
       "    .dataframe thead th {\n",
       "        text-align: right;\n",
       "    }\n",
       "</style>\n",
       "<table border=\"1\" class=\"dataframe\">\n",
       "  <thead>\n",
       "    <tr style=\"text-align: right;\">\n",
       "      <th></th>\n",
       "      <th>article</th>\n",
       "    </tr>\n",
       "  </thead>\n",
       "  <tbody>\n",
       "    <tr>\n",
       "      <th>0</th>\n",
       "      <td>Contributing columnist\\n\\nThe House is on fire...</td>\n",
       "    </tr>\n",
       "    <tr>\n",
       "      <th>1</th>\n",
       "      <td>When President Trump announced his decision to...</td>\n",
       "    </tr>\n",
       "    <tr>\n",
       "      <th>10</th>\n",
       "      <td>Russian President Vladimir Putin speaks at a s...</td>\n",
       "    </tr>\n",
       "    <tr>\n",
       "      <th>100</th>\n",
       "      <td>“The Queen’s Speech” is designed to acknowledg...</td>\n",
       "    </tr>\n",
       "    <tr>\n",
       "      <th>101</th>\n",
       "      <td>Like an aging rock star, the president is now ...</td>\n",
       "    </tr>\n",
       "  </tbody>\n",
       "</table>\n",
       "</div>"
      ],
      "text/plain": [
       "                                               article\n",
       "0    Contributing columnist\\n\\nThe House is on fire...\n",
       "1    When President Trump announced his decision to...\n",
       "10   Russian President Vladimir Putin speaks at a s...\n",
       "100  “The Queen’s Speech” is designed to acknowledg...\n",
       "101  Like an aging rock star, the president is now ..."
      ]
     },
     "execution_count": 10,
     "metadata": {},
     "output_type": "execute_result"
    }
   ],
   "source": [
    "# Washington Post articles from October 2019 collected by Jon-Cody Sokoll\n",
    "url = 'https://raw.githubusercontent.com/LambdaSchool/DS-Unit-4-Sprint-3-Deep-Learning/master/module1-rnn-and-lstm/wp_articles.json'\n",
    "\n",
    "data = pd.read_json(url)\n",
    "print(data.shape)\n",
    "data.head()"
   ]
  },
  {
   "cell_type": "code",
   "execution_count": 11,
   "metadata": {
    "colab": {
     "base_uri": "https://localhost:8080/",
     "height": 54
    },
    "colab_type": "code",
    "id": "IOSE0ZR6pHeS",
    "outputId": "acc69ce5-0b5c-43dd-e8ff-b62908896372"
   },
   "outputs": [
    {
     "data": {
      "text/plain": [
       "\"Contributing columnist\\n\\nThe House is on fire. And with each passing day, Donald Trump defiles the office of the president. If only past defrocked presidents could provide a roadmap for this firestorm.\\n\\nAndrew Johnson fought impeachment vigorously and survived removal, but never won reelection. Richard Nixon got in the way of justice, but eventually bowed to the rule of law, accepting his asterisk in the annals of history and resigning before certain removal. Bill Clinton expressed contrition, went on to complete his presidency with high approval ratings and has remained a popular former president.\\n\\nIf you care about democracy, the rule of law and nearly 250 years of constitutional governance, take heed. President Trump is no Clinton or Nixon, or even Johnson. He will not go quietly. It will be ugly. He will betray us and the rule of law in the process — defying subpoenas, withholding documents, blocking witnesses.\\n\\nThis presidency is fouled with disrespect for rules, boundaries and norms. Trump walked away from major agreements negotiated by his predecessors — the Iran nuclear deal, the Paris climate accord — and the United States’ word as bond is no more. Look at the ease with which he discards supporters — ask former attorney general Jeff Sessions or former secretary of state Rex Tillerson. Ask our allies, here today, gone tomorrow — NATO, the Kurds in Syria.\\n\\nFrom his earliest days as a candidate, Trump voiced appallingly arrogant views about the power of the presidency: “Mexico will pay for the wall!” ; “I alone can fix it”; “My primary consultant is myself.” His possessiveness over people and institutions is also not new: “my generals and my military,” “my African American.”\\n\\nOnly months into his presidency, Trump disparaged democratic allies, including Germany’s Angela Merkel (“ruining Germany”) and Britain’s Theresa May (“foolish”) — notably, both women — in favor of strong-arm leaders such as North Korea’s Kim Jong Un (who wrote him “beautiful letters”), Saudi Arabia’s Mohammed bin Salman (“very good ally”), Turkey’s Recep Tayyip Erdogan (“great friendship”) and the Philippines’ Rodrigo Duterte (“great relationship”). Trump heaps praise on Russia’s Vladimir Putin (“he’s a strong leader”). And, days after revealing his words pressuring Ukrainian President Volodymyr Zelensky to dig up dirt on his opponent, he invited China to do it, too.\\n\\nTrump’s campaign for the White House was rotten from the beginning. We glimpsed its depths when his lawyer Michael Cohen pleaded guilty to campaign finance felonies and identified Trump as “Individual 1” in a conspiracy to pay off an adult-film star and a former Playboy model to silence them during the height of the 2016 presidential campaign. We got even more evidence of Trump’s deception in the dense report prepared by special counsel Robert S. Mueller III on Russia’s interference in the 2016 election to benefit Trump and try to defeat Hillary Clinton. Mueller laid the groundwork for at least 10 acts of obstruction of justice.\\n\\nEven with all of that, it’s this still-unraveling Ukraine story that makes clear the bits and pieces that we could only imagine with Trump’s pleas to “Russia, if you’re listening . . . .” We have the same threats, lies, subterfuge and obstruction — only this time, we have the president’s unambiguous words to Zelensky: “I would like you to do us a favor though.” Ukraine represents the same lawlessness that propelled Trump over the finish line in 2016: this time in plain sight, with witnesses, including at least one whistleblower and lots of bit players. From the State Department to the Energy Department to the Justice Department and throughout the White House, Trump is using every bit of the machinery of government and personnel at his disposal to strongarm a small country under the heel of its threatening Russian neighbor — all to get manufactured dirt on a political opponent.\\n\\nIt’s illegal. The evidence is bearing fruit. The time will come. And justice will be served.\\n\\nThe president’s personal approval rating remains low, though stable, but there is growing support for impeachment — a Fox News poll this week found that 51 percent support removing Trump from office. Independents, as well as Democrats, mostly support the impeachment inquiry, while Republicans are mostly holding tight. These things may or may not change.\\n\\nEither way, we will be changed if we do not right this ship of democracy.\\n\\n“Impeachment is not about punishment. Impeachment is about cleansing the office. Impeachment is about restoring honor and integrity to the office.” We should heed these words, spoken by the 1999 version of Sen. Lindsey O. Graham (R-S.C.). The fire did not start with Ukraine. Nonetheless, Ukraine may give us the water to finally put it out.\\n\\nRead more from Donna F. Edwards's archive.\""
      ]
     },
     "execution_count": 11,
     "metadata": {},
     "output_type": "execute_result"
    }
   ],
   "source": [
    "# Let's inspect the first article\n",
    "data.article.values[0]"
   ]
  },
  {
   "cell_type": "code",
   "execution_count": 12,
   "metadata": {
    "colab": {},
    "colab_type": "code",
    "id": "myat8TpipHeT"
   },
   "outputs": [],
   "source": [
    "# Encode Data as Chars\n",
    "\n",
    "# Gather all text \n",
    "# Why? \n",
    "# 1. See all possible characters \n",
    "# 2. For training / splitting later\n",
    "text = \" \".join(data.article.values)\n",
    "\n",
    "# Unique Characters\n",
    "chars = list(set(text))\n",
    "\n",
    "# Lookup Tables\n",
    "char_int = {c:i for i, c in enumerate(chars)} \n",
    "int_char = {i:c for i, c in enumerate(chars)} "
   ]
  },
  {
   "cell_type": "code",
   "execution_count": 15,
   "metadata": {},
   "outputs": [
    {
     "data": {
      "text/plain": [
       "'Contributing columnist\\n\\nThe House is on fire. And with each passing day, Donald Trump defiles the of'"
      ]
     },
     "execution_count": 15,
     "metadata": {},
     "output_type": "execute_result"
    }
   ],
   "source": [
    "text[:100]"
   ]
  },
  {
   "cell_type": "code",
   "execution_count": 17,
   "metadata": {},
   "outputs": [
    {
     "data": {
      "text/plain": [
       "['A', '4', '\\n', 'S', '\"']"
      ]
     },
     "execution_count": 17,
     "metadata": {},
     "output_type": "execute_result"
    }
   ],
   "source": [
    "chars[:5]"
   ]
  },
  {
   "cell_type": "code",
   "execution_count": null,
   "metadata": {
    "colab": {
     "base_uri": "https://localhost:8080/",
     "height": 34
    },
    "colab_type": "code",
    "id": "HximSUKJpHeV",
    "outputId": "53030e97-0ac2-4b67-9af5-d70aa3bc790d"
   },
   "outputs": [
    {
     "data": {
      "text/plain": [
       "121"
      ]
     },
     "execution_count": 33,
     "metadata": {
      "tags": []
     },
     "output_type": "execute_result"
    }
   ],
   "source": [
    "len(chars)"
   ]
  },
  {
   "cell_type": "code",
   "execution_count": null,
   "metadata": {
    "colab": {
     "base_uri": "https://localhost:8080/",
     "height": 1000
    },
    "colab_type": "code",
    "id": "DUyhdcbetS3Y",
    "outputId": "8f3b418b-6f2a-42d0-ef77-38a07a3117b1"
   },
   "outputs": [
    {
     "data": {
      "text/plain": [
       "['$',\n",
       " '@',\n",
       " 'h',\n",
       " '[',\n",
       " 'P',\n",
       " '🗣',\n",
       " 'L',\n",
       " 't',\n",
       " 'ê',\n",
       " 'j',\n",
       " 'í',\n",
       " 'e',\n",
       " '\\u2069',\n",
       " 'q',\n",
       " 'l',\n",
       " 'o',\n",
       " 'Q',\n",
       " '5',\n",
       " 'g',\n",
       " '#',\n",
       " 'ó',\n",
       " 'S',\n",
       " '-',\n",
       " '8',\n",
       " '6',\n",
       " '½',\n",
       " 'r',\n",
       " 'V',\n",
       " 'Z',\n",
       " 'U',\n",
       " '2',\n",
       " 'W',\n",
       " 'F',\n",
       " 'i',\n",
       " 'd',\n",
       " '👻',\n",
       " '–',\n",
       " '―',\n",
       " '%',\n",
       " '…',\n",
       " '7',\n",
       " 'n',\n",
       " 'ö',\n",
       " '\\u2066',\n",
       " 's',\n",
       " 'é',\n",
       " 'm',\n",
       " '\\xad',\n",
       " 'è',\n",
       " 'A',\n",
       " '●',\n",
       " '\"',\n",
       " '⭐',\n",
       " '’',\n",
       " 'a',\n",
       " 'O',\n",
       " 'I',\n",
       " ',',\n",
       " 'ñ',\n",
       " 'Y',\n",
       " 'y',\n",
       " '4',\n",
       " '&',\n",
       " \"'\",\n",
       " 'K',\n",
       " 'w',\n",
       " 'C',\n",
       " 'v',\n",
       " ')',\n",
       " 'k',\n",
       " 'X',\n",
       " '·',\n",
       " '+',\n",
       " 'R',\n",
       " '×',\n",
       " 'p',\n",
       " 'D',\n",
       " '—',\n",
       " '_',\n",
       " '“',\n",
       " ']',\n",
       " '©',\n",
       " 'T',\n",
       " 'u',\n",
       " ':',\n",
       " 'á',\n",
       " '⅔',\n",
       " 'ﬂ',\n",
       " '1',\n",
       " '9',\n",
       " 'B',\n",
       " '⅓',\n",
       " '|',\n",
       " '0',\n",
       " '”',\n",
       " '?',\n",
       " 'f',\n",
       " ';',\n",
       " 'G',\n",
       " '!',\n",
       " 'b',\n",
       " 'M',\n",
       " 'x',\n",
       " '*',\n",
       " '{',\n",
       " 'ã',\n",
       " 'c',\n",
       " 'z',\n",
       " 'H',\n",
       " ' ',\n",
       " '\\n',\n",
       " '.',\n",
       " '🤔',\n",
       " '(',\n",
       " 'E',\n",
       " 'N',\n",
       " 'J',\n",
       " '‘',\n",
       " '•',\n",
       " '/',\n",
       " '3']"
      ]
     },
     "execution_count": 34,
     "metadata": {
      "tags": []
     },
     "output_type": "execute_result"
    }
   ],
   "source": [
    "chars"
   ]
  },
  {
   "cell_type": "code",
   "execution_count": null,
   "metadata": {
    "colab": {},
    "colab_type": "code",
    "id": "PhD4wGndtYC3"
   },
   "outputs": [],
   "source": [
    "# We may want to remove non-ASCII characters\n",
    "data['article_clean'] = data['article'].replace({r'[^\\x00-\\x7F]+':''}, regex=True, inplace=True)"
   ]
  },
  {
   "cell_type": "code",
   "execution_count": null,
   "metadata": {
    "colab": {},
    "colab_type": "code",
    "id": "ht-6TyXAt5WV"
   },
   "outputs": [],
   "source": [
    "# Encode Data as Chars\n",
    "\n",
    "# Gather all text \n",
    "# Why? \n",
    "# 1. See all possible characters \n",
    "# 2. For training / splitting later\n",
    "text = \" \".join(data.article.values)\n",
    "\n",
    "# Unique Characters\n",
    "chars = list(set(text))\n",
    "\n",
    "# Lookup Tables\n",
    "char_int = {c:i for i, c in enumerate(chars)} \n",
    "int_char = {i:c for i, c in enumerate(chars)} "
   ]
  },
  {
   "cell_type": "code",
   "execution_count": null,
   "metadata": {
    "colab": {
     "base_uri": "https://localhost:8080/",
     "height": 34
    },
    "colab_type": "code",
    "id": "IlGy9Bxut8oM",
    "outputId": "811d785c-92d2-4827-fd64-be1285065858"
   },
   "outputs": [
    {
     "data": {
      "text/plain": [
       "88"
      ]
     },
     "execution_count": 37,
     "metadata": {
      "tags": []
     },
     "output_type": "execute_result"
    }
   ],
   "source": [
    "len(chars)"
   ]
  },
  {
   "cell_type": "code",
   "execution_count": null,
   "metadata": {
    "colab": {
     "base_uri": "https://localhost:8080/",
     "height": 1000
    },
    "colab_type": "code",
    "id": "EjQ5Fj6Qt8wI",
    "outputId": "227788e2-0bdb-41c3-f4f5-0e0e35b97edd"
   },
   "outputs": [
    {
     "data": {
      "text/plain": [
       "['$',\n",
       " '@',\n",
       " 'h',\n",
       " '[',\n",
       " 'P',\n",
       " 'L',\n",
       " 't',\n",
       " 'j',\n",
       " 'e',\n",
       " 'q',\n",
       " 'l',\n",
       " 'o',\n",
       " 'Q',\n",
       " '5',\n",
       " 'g',\n",
       " '#',\n",
       " 'S',\n",
       " '-',\n",
       " '8',\n",
       " '6',\n",
       " 'r',\n",
       " 'V',\n",
       " 'Z',\n",
       " 'U',\n",
       " '2',\n",
       " 'W',\n",
       " 'F',\n",
       " 'i',\n",
       " 'd',\n",
       " '%',\n",
       " '7',\n",
       " 'n',\n",
       " 's',\n",
       " 'm',\n",
       " 'A',\n",
       " '\"',\n",
       " 'a',\n",
       " 'O',\n",
       " 'I',\n",
       " ',',\n",
       " 'Y',\n",
       " 'y',\n",
       " '4',\n",
       " '&',\n",
       " \"'\",\n",
       " 'K',\n",
       " 'w',\n",
       " 'C',\n",
       " 'v',\n",
       " ')',\n",
       " 'k',\n",
       " 'X',\n",
       " '+',\n",
       " 'R',\n",
       " 'p',\n",
       " 'D',\n",
       " '_',\n",
       " ']',\n",
       " 'T',\n",
       " 'u',\n",
       " ':',\n",
       " '1',\n",
       " '9',\n",
       " 'B',\n",
       " '|',\n",
       " '0',\n",
       " '?',\n",
       " 'f',\n",
       " ';',\n",
       " 'G',\n",
       " '!',\n",
       " 'b',\n",
       " 'M',\n",
       " 'x',\n",
       " '*',\n",
       " '{',\n",
       " 'c',\n",
       " 'z',\n",
       " 'H',\n",
       " ' ',\n",
       " '\\n',\n",
       " '.',\n",
       " '(',\n",
       " 'E',\n",
       " 'N',\n",
       " 'J',\n",
       " '/',\n",
       " '3']"
      ]
     },
     "execution_count": 38,
     "metadata": {
      "tags": []
     },
     "output_type": "execute_result"
    }
   ],
   "source": [
    "chars"
   ]
  },
  {
   "cell_type": "code",
   "execution_count": 20,
   "metadata": {
    "colab": {
     "base_uri": "https://localhost:8080/",
     "height": 34
    },
    "colab_type": "code",
    "id": "8jXV9eu9QOGq",
    "outputId": "ac65c8f9-7cf9-4351-f8ea-692ad0d2251c"
   },
   "outputs": [
    {
     "data": {
      "text/plain": [
       "891910"
      ]
     },
     "execution_count": 20,
     "metadata": {},
     "output_type": "execute_result"
    }
   ],
   "source": [
    "len(encoded)"
   ]
  },
  {
   "cell_type": "code",
   "execution_count": 19,
   "metadata": {
    "colab": {
     "base_uri": "https://localhost:8080/",
     "height": 34
    },
    "colab_type": "code",
    "id": "XOXn7vWgpHeX",
    "outputId": "f2268ada-c460-4123-d9fe-280f17a2d9f9"
   },
   "outputs": [
    {
     "name": "stdout",
     "output_type": "stream",
     "text": [
      "sequences:  178374\n"
     ]
    }
   ],
   "source": [
    "# Create the sequence data\n",
    "maxlen = 40\n",
    "step = 5\n",
    "\n",
    "encoded = [char_int[c] for c in text]\n",
    "\n",
    "sequences = [] # Each element is 40 chars long\n",
    "next_char = [] # One element for each sequence\n",
    "\n",
    "for i in range(0, len(encoded) - maxlen, step):\n",
    "    \n",
    "    sequences.append(encoded[i : i + maxlen])\n",
    "    next_char.append(encoded[i + maxlen])\n",
    "    \n",
    "print('sequences: ', len(sequences))"
   ]
  },
  {
   "cell_type": "code",
   "execution_count": null,
   "metadata": {
    "colab": {
     "base_uri": "https://localhost:8080/",
     "height": 710
    },
    "colab_type": "code",
    "id": "hpyRTBxspHeZ",
    "outputId": "0d4ca66c-4013-43ce-f848-6b0ee8f28509"
   },
   "outputs": [
    {
     "data": {
      "text/plain": [
       "[47,\n",
       " 11,\n",
       " 31,\n",
       " 6,\n",
       " 20,\n",
       " 27,\n",
       " 71,\n",
       " 59,\n",
       " 6,\n",
       " 27,\n",
       " 31,\n",
       " 14,\n",
       " 79,\n",
       " 76,\n",
       " 11,\n",
       " 10,\n",
       " 59,\n",
       " 33,\n",
       " 31,\n",
       " 27,\n",
       " 32,\n",
       " 6,\n",
       " 80,\n",
       " 80,\n",
       " 58,\n",
       " 2,\n",
       " 8,\n",
       " 79,\n",
       " 78,\n",
       " 11,\n",
       " 59,\n",
       " 32,\n",
       " 8,\n",
       " 79,\n",
       " 27,\n",
       " 32,\n",
       " 79,\n",
       " 11,\n",
       " 31,\n",
       " 79]"
      ]
     },
     "execution_count": 41,
     "metadata": {
      "tags": []
     },
     "output_type": "execute_result"
    }
   ],
   "source": [
    "sequences[0]"
   ]
  },
  {
   "cell_type": "code",
   "execution_count": null,
   "metadata": {
    "colab": {},
    "colab_type": "code",
    "id": "npRbRJ9OpHeb"
   },
   "outputs": [],
   "source": [
    "# Create x & y\n",
    "x = np.zeros((len(sequences), maxlen, len(chars)), dtype=np.bool)\n",
    "y = np.zeros((len(sequences), len(chars)), dtype=np.bool)\n",
    "\n",
    "for i, sequence in enumerate(sequences):\n",
    "    for t, char in enumerate(sequence):\n",
    "        x[i,t,char] = 1\n",
    "        \n",
    "    y[i, next_char[i]] = 1"
   ]
  },
  {
   "cell_type": "code",
   "execution_count": null,
   "metadata": {
    "colab": {
     "base_uri": "https://localhost:8080/",
     "height": 34
    },
    "colab_type": "code",
    "id": "6_sItOIEpHec",
    "outputId": "d17b20c7-37e0-4e14-d6ca-a995bf01be03"
   },
   "outputs": [
    {
     "data": {
      "text/plain": [
       "(176992, 40, 88)"
      ]
     },
     "execution_count": 43,
     "metadata": {
      "tags": []
     },
     "output_type": "execute_result"
    }
   ],
   "source": [
    "# What do the dimensions of x represent?\n",
    "# Number of sequences, sequence length, unique characters\n",
    "x.shape"
   ]
  },
  {
   "cell_type": "code",
   "execution_count": null,
   "metadata": {
    "colab": {
     "base_uri": "https://localhost:8080/",
     "height": 34
    },
    "colab_type": "code",
    "id": "ThJFHYgipHee",
    "outputId": "4fe12884-2e53-4551-da7e-dc025c3082c2"
   },
   "outputs": [
    {
     "data": {
      "text/plain": [
       "(176992, 88)"
      ]
     },
     "execution_count": 44,
     "metadata": {
      "tags": []
     },
     "output_type": "execute_result"
    }
   ],
   "source": [
    "# What about y?\n",
    "y.shape"
   ]
  },
  {
   "cell_type": "code",
   "execution_count": null,
   "metadata": {
    "colab": {},
    "colab_type": "code",
    "id": "OkGk8blhpHeg"
   },
   "outputs": [],
   "source": [
    "# Build the model: a single LSTM\n",
    "model = Sequential()\n",
    "model.add(LSTM(128, input_shape=(maxlen, len(chars))))\n",
    "model.add(Dense(len(chars), activation='softmax'))\n",
    "\n",
    "# Compile\n",
    "model.compile(loss='categorical_crossentropy', optimizer='adam')"
   ]
  },
  {
   "cell_type": "code",
   "execution_count": null,
   "metadata": {
    "colab": {},
    "colab_type": "code",
    "id": "uBxmhuGlpHeh"
   },
   "outputs": [],
   "source": [
    "def sample(preds):\n",
    "    # helper function to sample an index from a probability array\n",
    "    preds = np.asarray(preds).astype('float64')\n",
    "    preds = np.log(preds) / 1\n",
    "    exp_preds = np.exp(preds)\n",
    "    preds = exp_preds / np.sum(exp_preds)\n",
    "    probas = np.random.multinomial(1, preds, 1)\n",
    "    return np.argmax(probas)"
   ]
  },
  {
   "cell_type": "code",
   "execution_count": null,
   "metadata": {
    "colab": {},
    "colab_type": "code",
    "id": "zNytScjTpHej"
   },
   "outputs": [],
   "source": [
    "def on_epoch_end(epoch, _):\n",
    "    # Function invoked at end of each epoch. Prints generated text.\n",
    "    \n",
    "    print()\n",
    "    print('----- Generating text after Epoch: %d' % epoch)\n",
    "    \n",
    "    start_index = random.randint(0, len(text) - maxlen - 1)\n",
    "    \n",
    "    generated = ''\n",
    "    \n",
    "    # sentence = text[start_index: start_index + maxlen]\n",
    "    sentence = 'President Trump recently had a confident'\n",
    "    generated += sentence\n",
    "    \n",
    "    print('----- Generating with seed: \"' + sentence + '\"')\n",
    "    sys.stdout.write(generated)\n",
    "    \n",
    "    for i in range(400):\n",
    "        x_pred = np.zeros((1, maxlen, len(chars)))\n",
    "        for t, char in enumerate(sentence):\n",
    "            x_pred[0, t, char_int[char]] = 1\n",
    "            \n",
    "        preds = model.predict(x_pred, verbose=0)[0]\n",
    "        next_index = sample(preds)\n",
    "        next_char = int_char[next_index]\n",
    "        \n",
    "        sentence = sentence[1:] + next_char\n",
    "        \n",
    "        sys.stdout.write(next_char)\n",
    "        sys.stdout.flush()\n",
    "    print()\n",
    "\n",
    "\n",
    "print_callback = LambdaCallback(on_epoch_end=on_epoch_end)"
   ]
  },
  {
   "cell_type": "code",
   "execution_count": null,
   "metadata": {
    "colab": {
     "base_uri": "https://localhost:8080/",
     "height": 1000
    },
    "colab_type": "code",
    "id": "PvnYLyRKpHel",
    "outputId": "a230e794-3e0c-4db5-fcd8-5652cc25cd65"
   },
   "outputs": [
    {
     "name": "stdout",
     "output_type": "stream",
     "text": [
      "Epoch 1/25\n",
      "5528/5531 [============================>.] - ETA: 0s - loss: 2.5215\n",
      "----- Generating text after Epoch: 0\n",
      "----- Generating with seed: \"President Trump recently had a confident\"\n",
      "President Trump recently had a confident calsilang plomm porit wh desape il Whuch gremtateel perllutir Walebtove that has likilt. Thoutsile ally sellionge ssuelnce nastinntalis leon that dofes.\n",
      "\n",
      "Y-she the hain meichise byous, thoe anster Plakint of the fouth. Progife corvame io intin lagted and phereifs sray beush walspentings as geatel ringrict the p usence Sther tho the pullect Is inetins. Sreising. Tal thes ypes, an sack pontsiin the\n",
      "5531/5531 [==============================] - 39s 7ms/step - loss: 2.5213\n",
      "Epoch 2/25\n",
      "5529/5531 [============================>.] - ETA: 0s - loss: 2.1758\n",
      "----- Generating text after Epoch: 1\n",
      "----- Generating with seed: \"President Trump recently had a confident\"\n",
      "President Trump recently had a confident of leve that daden for prile treia rereate a poncion the ont ald regule the, Antwest of lorg thans detiy, neved (aplasing atisitinn, wrerut. Ste the pace to Uniliker coust fagmel an Telin, CStundron Co vient soummel whetch bit. Estead is lovev the Pith the comes with Krxaonmogn spect cotiom foo forguli, dup the regure, villingshivs on in loyct Conch the coupor the mablly that the Webees Qpidet an\n",
      "5531/5531 [==============================] - 39s 7ms/step - loss: 2.1759\n",
      "Epoch 3/25\n",
      "5529/5531 [============================>.] - ETA: 0s - loss: 2.0346\n",
      "----- Generating text after Epoch: 2\n",
      "----- Generating with seed: \"President Trump recently had a confident\"\n",
      "President Trump recently had a confidentiaghla. The advaciof You durden propent AMk.\n",
      "\n",
      "But Trump agrt of the Sard-LiCTharoenmap Saluainal ats as incrise $160, al? artalousticed on scentwer of The Popthercosty forlion juppered that now ald a pith the the fam ach adguen aquensiventip agai. Ha vercon te choted, you make nevere an anden Aven AtlernSen.s.\n",
      "\n",
      "Bowny\n",
      "\n",
      "\n",
      "Forlernuld ardid al Dosthers and thit suguts at of the Ithiorall of toldare you\n",
      "5531/5531 [==============================] - 39s 7ms/step - loss: 2.0347\n",
      "Epoch 4/25\n",
      "5526/5531 [============================>.] - ETA: 0s - loss: 1.9403\n",
      "----- Generating text after Epoch: 3\n",
      "----- Generating with seed: \"President Trump recently had a confident\"\n",
      "President Trump recently had a confident noheber scaut. It her the insorsboly.\n",
      "\n",
      "PoPbater arrearenc-Wervire wrish whoudend atrechart. At difftiturded to payniard limaticgen ourte collt not of the asticing the revirune, crous in ranclugto. Sunsayler ans-interslored contring to out of rysumether a swite oven. Mon, 2017, with ess morgers who grain ary, sate tey and the bakerigal to brearthrown othore the Sedearion Passas optesters an withs \n",
      "5531/5531 [==============================] - 39s 7ms/step - loss: 1.9402\n",
      "Epoch 5/25\n",
      "5523/5531 [============================>.] - ETA: 0s - loss: 1.8672\n",
      "----- Generating text after Epoch: 4\n",
      "----- Generating with seed: \"President Trump recently had a confident\"\n",
      "President Trump recently had a confident, recach stay esponant grams sicition for formitees coverter the pleasing pach of ecooclerck. (succephs of miscis aldieg fand bowing expent. Mictor Ccresont Goums Ruchs 11 servased the formad hed cide collected lide in the now your herrew throw winchloctled that hargred that lik. Face in hildal the caulsions invessed a sit. Ir feom of musing, about spect stheinfess Trump impation and Chistony ques\n",
      "5531/5531 [==============================] - 39s 7ms/step - loss: 1.8669\n",
      "Epoch 6/25\n",
      "5530/5531 [============================>.] - ETA: 0s - loss: 1.8073\n",
      "----- Generating text after Epoch: 5\n",
      "----- Generating with seed: \"President Trump recently had a confident\"\n",
      "President Trump recently had a confident.\n",
      "\n",
      "On what back to aunering to posten of The Enerond find Refoff intestion, bead in the measimy.\n",
      "\n",
      "In Frodier or Trumpsspeis of a relity line, gromens. Which Sthey, asiding andidn starw, transit. Than Mndwny but St. Kur Poseddens cork consent on the idonged 8 3 you cill, on to a segraking 250 with untonds, will intaste freary lessed for may complacers froma move whoth has piscles and copjest tadard\n",
      "5531/5531 [==============================] - 39s 7ms/step - loss: 1.8072\n",
      "Epoch 7/25\n",
      "5521/5531 [============================>.] - ETA: 0s - loss: 1.7565\n",
      "----- Generating text after Epoch: 6\n",
      "----- Generating with seed: \"President Trump recently had a confident\"\n",
      "President Trump recently had a confidents, full which whorg andiredation or he was now straten.\n",
      "\n",
      "As Delpainatwon of Assamed Brack on she covibler joine make, and Mondand lonaters. We showsed, sitler. Kur you downs.\n",
      "\n",
      "Doweth Gen  WS mocts, in the Hend 6. West componution be she Hause Dovers Nows gekrel a propest orgate and a cauct. Renectations on Checedbest it Un free best regusuin and hes podicial.\n",
      "\n",
      "Playmy, subpociaters. But ononess Kru\n",
      "5531/5531 [==============================] - 39s 7ms/step - loss: 1.7569\n",
      "Epoch 8/25\n",
      "5529/5531 [============================>.] - ETA: 0s - loss: 1.7124\n",
      "----- Generating text after Epoch: 7\n",
      "----- Generating with seed: \"President Trump recently had a confident\"\n",
      "President Trump recently had a confidention and still blair part to signed a wark mond-sevilal prowings murnay ralter who offting intermatiofly said. Their dra, in our uturate, been their for as say thiokend he was in the right a San a Fab Guin Seconnts los report arnically diamist were victor includies, and of other share, the US. pay.\n",
      "\n",
      "Abruturel.\n",
      "\n",
      "Operyring a chick whith. Word and effonters or your stours to to esis as that 1929, will\n",
      "5531/5531 [==============================] - 39s 7ms/step - loss: 1.7124\n",
      "Epoch 9/25\n",
      "5524/5531 [============================>.] - ETA: 0s - loss: 1.6740\n",
      "----- Generating text after Epoch: 8\n",
      "----- Generating with seed: \"President Trump recently had a confident\"\n",
      "President Trump recently had a confident file doTreing paring in fumuniate online in oteer vater and leaker  a can impeachant tacknt to johture his rong to se onities. Hs taken whate ones, a real time that dober facidation, say U.S. ulforman a forme the bother thucus in Sep Roshen (Jose, in theo; Trump way Seail Bints. Precons, has inded and Univer New, a back out chaymed any but hater of the Kinuea in midd specuully wonch of years of a\n",
      "5531/5531 [==============================] - 39s 7ms/step - loss: 1.6742\n",
      "Epoch 10/25\n",
      "5525/5531 [============================>.] - ETA: 0s - loss: 1.6401\n",
      "----- Generating text after Epoch: 9\n",
      "----- Generating with seed: \"President Trump recently had a confident\"\n",
      "President Trump recently had a confidention of him about theer would resonvary goded to incemon of expett, & fortdry was in a play to tramental in Rusaiac. (@ProKKFKt:\n",
      "\n",
      "Bid ALmey Chice Baulks and a was to gusaid on, (13 Take Fabolo arviced more is Minners wrote of stapled and pats of the Senty in 3 po Derict.\n",
      "\n",
      "Hights 2017\n",
      "\n",
      "How told showed a perminist foring that publisins played retubnow up out up of Hinorsis Reckod Posts are 1972, widn\n",
      "5531/5531 [==============================] - 39s 7ms/step - loss: 1.6401\n",
      "Epoch 11/25\n",
      "5528/5531 [============================>.] - ETA: 0s - loss: 1.6093\n",
      "----- Generating text after Epoch: 10\n",
      "----- Generating with seed: \"President Trump recently had a confident\"\n",
      "President Trump recently had a confidents.\n",
      "\n",
      "Novey, Evoleanias. He phone, a thild long. Frodon Trumps plany criticy orchied to the Domicon aree had a senowible passed and fegrite or a baight more would only sctiveling, yund in an Avery Mikis Temm. Dore Bemober  tome tassed phorigins of a bugon on the promuct mode togunt temmated the dusifion Thurds Migrer Whice: But weratel Kamiz Quss are a stare dicopporieff is many d. 200 your airst ad\n",
      "5531/5531 [==============================] - 39s 7ms/step - loss: 1.6094\n",
      "Epoch 12/25\n",
      "5522/5531 [============================>.] - ETA: 0s - loss: 1.6554\n",
      "----- Generating text after Epoch: 11\n",
      "----- Generating with seed: \"President Trump recently had a confident\"\n",
      "President Trump recently had a confident in I had seepended attercicabiness of Conreas\n",
      "\n",
      "(Dahas: (Ane amallde Closed untramented he conse inem on mits.\n",
      "\n",
      "Hes ho is remilatarict this of the effichal monend strangs, arker beap. geising have at a timeticenses.\n",
      "\n",
      "Sut. Teen, I said confersment after in disites, as appocked to publies bid to has cordiaty concem: Sumpuinies overseting to as comelly will during more that Tarkey, they mones to assu\n",
      "5531/5531 [==============================] - 40s 7ms/step - loss: 1.6555\n",
      "Epoch 13/25\n",
      "5523/5531 [============================>.] - ETA: 0s - loss: 1.9639\n",
      "----- Generating text after Epoch: 12\n",
      "----- Generating with seed: \"President Trump recently had a confident\"\n",
      "President Trump recently had a confident dryirutugeled ents coulldrinn od our odenceseing pussing course.\n",
      "\n",
      "In undersed od degioiver retursmenter to low deerding her for omeraiesly solight the Housterno alleter of quirision sarms in Willievers and for, while the chance really antilled on weecop have to to American of the propes, at homital wordoroon on are fry, was drift teaklaigling helpent to seiv to incerations, Orum rable injurctives\n",
      "5531/5531 [==============================] - 39s 7ms/step - loss: 1.9636\n",
      "Epoch 14/25\n",
      "5524/5531 [============================>.] - ETA: 0s - loss: 1.6762\n",
      "----- Generating text after Epoch: 13\n",
      "----- Generating with seed: \"President Trump recently had a confident\"\n",
      "President Trump recently had a confidentiplibe, ay retorts to coviludant him been onghanguschrissive correro obeced; edvort of you homegroods or the jost Serva is incouls, a coound to call matero a diengue mofe caneruted, With pun is upermates, in I was tigning for the U.S. collies anory midate in 1300000. He detrible authremen, to whistinntlent that thought rellement the didente tham wailes for a fight invippo as mering opted Killife K\n",
      "5531/5531 [==============================] - 39s 7ms/step - loss: 1.6764\n",
      "Epoch 15/25\n",
      "5530/5531 [============================>.] - ETA: 0s - loss: 1.5757\n",
      "----- Generating text after Epoch: 14\n",
      "----- Generating with seed: \"President Trump recently had a confident\"\n",
      "President Trump recently had a confident imlendor said Jmssipss longtement.\n",
      "\n",
      "Pelursion. 5ny Rea.ctare He breve her kive instithed owred tiakeloned by the earlemity Then complation of a fauser to unce. Ma. we plaimed an and ginsing they how cleison uarthers man acked to his funtiom of theer familities alao, dringing a selaciance, and Virginar Colobity Drip A stone, he has now apposchult devicef plonechacicul an in the door because for st\n",
      "5531/5531 [==============================] - 39s 7ms/step - loss: 1.5757\n",
      "Epoch 16/25\n",
      "5530/5531 [============================>.] - ETA: 0s - loss: 1.5462\n",
      "----- Generating text after Epoch: 15\n",
      "----- Generating with seed: \"President Trump recently had a confident\"\n",
      "President Trump recently had a confidents. But Rusuro (1. the Jujon, a seculain on than met fich about the cept furters on soirlitivisters our airners endice on screef, you as hashstributive entocual if this a selled to the Colitaid Mchover 18 percent of 202-abbode and drants lowending proved stowered fenific ald sumple in up the Dalv: The dong the invilie corver wreat Mentif acchoor back time shirl all to FSK. Lesk Mong Rose] said Or. \n",
      "5531/5531 [==============================] - 39s 7ms/step - loss: 1.5462\n",
      "Epoch 17/25\n",
      "5525/5531 [============================>.] - ETA: 0s - loss: 1.5216\n",
      "----- Generating text after Epoch: 16\n",
      "----- Generating with seed: \"President Trump recently had a confident\"\n",
      "President Trump recently had a confident of the said Trump moves eremo returned abliesed of steandations in an former sucking comerackets subscrible. St. 6Elines against three realied book.\n",
      "\n",
      "AId Mallfown Leadami SS. Corceica En and stay aways to rever of said Rose Gatever.\n",
      "\n",
      "He deciulder doy a law beckritial on the Bellong, (Thick.\n",
      "\n",
      "I: 77 mimmzes attockets comment its socing Turkie Corrunor Gay. Mantam Farger Prison. (Hearth\n",
      "\n",
      "A, a difffi\n",
      "5531/5531 [==============================] - 39s 7ms/step - loss: 1.5215\n",
      "Epoch 18/25\n",
      "5523/5531 [============================>.] - ETA: 0s - loss: 1.5015\n",
      "----- Generating text after Epoch: 17\n",
      "----- Generating with seed: \"President Trump recently had a confident\"\n",
      "President Trump recently had a confidention itlages.\n",
      "\n",
      "Booke, in Monday bleak becomsions in released help of the Beisy Jon comminical as more, authiels goods in jounts had allies. Chargres and were lock out Tw bleast artureswild-frave-undelance hometer filling caurible.\n",
      "\n",
      "Whether bocksing a will banded grad shot disensive that an outer tove attark, has Trump so communities dorente. Every coulsdicause't bad now (var and importanisa captry,\n",
      "5531/5531 [==============================] - 39s 7ms/step - loss: 1.5016\n",
      "Epoch 19/25\n",
      "5530/5531 [============================>.] - ETA: 0s - loss: 1.4840\n",
      "----- Generating text after Epoch: 18\n",
      "----- Generating with seed: \"President Trump recently had a confident\"\n",
      "President Trump recently had a confident: We preetton appeares, in a sons in the rejeenders. Lew the litalw, in an even the exports.\n",
      "\n",
      "To tomes destark. In read-yout to bays that pally, been cancers in the United State who logges want ecruse were is this lest backues tall Primon Scail. The himments that he dud floming much wouldless and adous that pay receiver who sareed to topary attorders call, And The Washinst it with expects site in \n",
      "5531/5531 [==============================] - 39s 7ms/step - loss: 1.4840\n",
      "Epoch 20/25\n",
      "5528/5531 [============================>.] - ETA: 0s - loss: 1.4638\n",
      "----- Generating text after Epoch: 19\n",
      "----- Generating with seed: \"President Trump recently had a confident\"\n",
      "President Trump recently had a confidents of the ligzlers enrilat do litment. Minesto. Postor xass area: Forter that the distoryent vire stop dies brouging was from sudvergment and the enverticians attraciber.\n",
      "\n",
      "AD\n",
      "\n",
      "Ill? Chargro( of a tapes.\n",
      "\n",
      "AD\n",
      "\n",
      "So it a content pro quit. But the reater, sutpation that scheen Monday, byility of match buent for Fiseri]ns.\n",
      "\n",
      "Bill Grove Onlama, behave with these stet wonk and there bridgoons/accroons that ma\n",
      "5531/5531 [==============================] - 39s 7ms/step - loss: 1.4638\n",
      "Epoch 21/25\n",
      "5521/5531 [============================>.] - ETA: 0s - loss: 1.4478\n",
      "----- Generating text after Epoch: 20\n",
      "----- Generating with seed: \"President Trump recently had a confident\"\n",
      "President Trump recently had a confident Trump adomity car frast or start the completer.\n",
      "\n",
      "For sires your survices of its from to Clinton, ond plainars. On robusity sented fow to reghal clear and Ondrack State (D-Pulop NBCSS. FOR.\n",
      "\n",
      "Mobbow at Yon any that lases.\n",
      "\n",
      "However is returned the be peeches the NACC, slayed compare and the filled came now one was a dowreds along Easker month of LLC, a taal paparded.\n",
      "\n",
      "AD\n",
      "\n",
      "AD\n",
      "\n",
      "Youmet withy attook. (R\n",
      "5531/5531 [==============================] - 39s 7ms/step - loss: 1.4478\n",
      "Epoch 22/25\n",
      "5521/5531 [============================>.] - ETA: 0s - loss: 1.4328\n",
      "----- Generating text after Epoch: 21\n",
      "----- Generating with seed: \"President Trump recently had a confident\"\n",
      "President Trump recently had a confident.\n",
      "\n",
      "To from almore.\n",
      "\n",
      "Mone more murned Sperild. We pro-mance.\n",
      "\n",
      "AD\n",
      "\n",
      "AD\n",
      "\n",
      "Trump and partue, laws hisfure in an enigonat.\n",
      "\n",
      "Ale nexty sund, share pryside used expects weegent a testing medical about office avaid \"13 years. Fundy 56 rights from four a can of the selvatize cansed testmy viciative carefoly fill. I ling a hah anded on the do what stakes. Ohen Rannersteadedn poshing. Murk Rosic and through to\n",
      "5531/5531 [==============================] - 39s 7ms/step - loss: 1.4329\n",
      "Epoch 23/25\n",
      "5528/5531 [============================>.] - ETA: 0s - loss: 1.4189\n",
      "----- Generating text after Epoch: 22\n",
      "----- Generating with seed: \"President Trump recently had a confident\"\n",
      "President Trump recently had a confident with 1964, a $100 posed a stupp the Rumisishe Mt. A gurre to arcerace have that also in Lough of Mausops halttormance was mattory anded than Virions bocan the Presuse they had congressment unchunad your own game woll they care get misiging the Raph Could Cammus a teachunt Call Kan comper, or forcened dinoffal to guic to making the portion of funly decoptens (I oblicar . 50088, by we well sfeer of\n",
      "5531/5531 [==============================] - 39s 7ms/step - loss: 1.4189\n",
      "Epoch 24/25\n",
      "5528/5531 [============================>.] - ETA: 0s - loss: 1.4066\n",
      "----- Generating text after Epoch: 23\n",
      "----- Generating with seed: \"President Trump recently had a confident\"\n",
      "President Trump recently had a confident about theres tax on Sunday blights including for Jamb Cransex. I was have retweet Sendoumes that dows will stimbule profencupor Tapages are bockens or than pattle Ket opeice in that frong for a people ruil, but not of sente. Loo Alosil Nitzons Seach Citt. Wind in ubrimingers. Itstance and mur-lasses and police colleace are boy its all at your promiked 2017 was numplet from that she pas making dus\n",
      "5531/5531 [==============================] - 39s 7ms/step - loss: 1.4067\n",
      "Epoch 25/25\n",
      "5524/5531 [============================>.] - ETA: 0s - loss: 1.3944\n",
      "----- Generating text after Epoch: 24\n",
      "----- Generating with seed: \"President Trump recently had a confident\"\n",
      "President Trump recently had a confident securies, sont in the tethod our which have to Medumn Dalin Clayente who had strung jartur to high-appar production, may decadencle is were reeffeve theyre, a work party negordays that the sugge restushes hight.\n",
      "\n",
      "Throuplephates end deelly lust children. That no driquetters were instruction derected plyace, deboht department. To as polity incluming.\n",
      "\n",
      "AD\n",
      "\n",
      "AD\n",
      "\n",
      "AD\n",
      "\n",
      "Schichpophesed optide.\n",
      "\n",
      "Emilly vide\n",
      "5531/5531 [==============================] - 39s 7ms/step - loss: 1.3942\n"
     ]
    },
    {
     "data": {
      "text/plain": [
       "<tensorflow.python.keras.callbacks.History at 0x7fe1909d6dd8>"
      ]
     },
     "execution_count": 48,
     "metadata": {
      "tags": []
     },
     "output_type": "execute_result"
    }
   ],
   "source": [
    "# fit the model\n",
    "model.fit(x, y,\n",
    "          batch_size=32,\n",
    "          epochs=25,\n",
    "          callbacks=[print_callback])"
   ]
  },
  {
   "cell_type": "markdown",
   "metadata": {
    "colab_type": "text",
    "id": "7KpjrzIwpHen"
   },
   "source": [
    "## Challenge\n",
    "\n",
    "You will be expected to use a Keras LSTM to generate text on today's assignment. "
   ]
  },
  {
   "cell_type": "markdown",
   "metadata": {
    "colab_type": "text",
    "id": "CNz8_mHEpHeo"
   },
   "source": [
    "# Review\n",
    "\n",
    "- <a href=\"#p1\">Part 1: </a>Describe Neural Networks used for modeling sequences\n",
    "    * Sequence Problems:\n",
    "        - Time Series (like Stock Prices, Weather, etc.)\n",
    "        - Text Classification\n",
    "        - Text Generation\n",
    "        - And many more! :D\n",
    "    * LSTMs are generally preferred over RNNs for most problems\n",
    "    * LSTMs are typically a single hidden layer of LSTM type; although, other architectures are possible.\n",
    "    * Keras has LSTMs/RNN layer types implemented nicely\n",
    "- <a href=\"#p2\">Part 2: </a>Apply a LSTM to a text generation problem using Keras\n",
    "    * Shape of input data is very important\n",
    "    * Can take a while to train\n",
    "    * You can use it to write movie scripts. :P "
   ]
  }
 ],
 "metadata": {
  "accelerator": "GPU",
  "colab": {
   "collapsed_sections": [],
   "name": "LS_DSPT4_431_RNN_and_LSTM_Lecture.ipynb",
   "provenance": []
  },
  "kernelspec": {
   "display_name": "Majore Neural Network Architecture",
   "language": "python",
   "name": "mnna"
  },
  "language_info": {
   "codemirror_mode": {
    "name": "ipython",
    "version": 3
   },
   "file_extension": ".py",
   "mimetype": "text/x-python",
   "name": "python",
   "nbconvert_exporter": "python",
   "pygments_lexer": "ipython3",
   "version": "3.7.0"
  }
 },
 "nbformat": 4,
 "nbformat_minor": 4
}
